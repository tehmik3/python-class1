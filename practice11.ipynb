{
 "cells": [
  {
   "cell_type": "code",
   "execution_count": null,
   "metadata": {},
   "outputs": [],
   "source": [
    "from functools import reduce # Import reduce from functon\n",
    "number = [1,2,3,4,5,6,7,8,9]    # List of number\n",
    "# Calculate the sum of the number using the reduce funtion\n",
    "def num (x,y):\n",
    "  return x + y\n",
    "\n",
    "sum = reduce(num,number) # Call reduce outside the num function\n",
    "print(\"sum>>>\", sum)  # Print the sum outside the num function\n",
    "\n",
    "# sum>>> 45"
   ]
  },
  {
   "cell_type": "code",
   "execution_count": null,
   "metadata": {},
   "outputs": [],
   "source": [
    "from functools import reduce\n",
    "\n",
    "def multi (a,r):\n",
    "  return a * r\n",
    "\n",
    "numbers = [1,2,3,4,5]\n",
    "new_list = reduce(multi,numbers)\n",
    "print(new_list)\n",
    "\n",
    "# 120"
   ]
  },
  {
   "cell_type": "code",
   "execution_count": null,
   "metadata": {},
   "outputs": [],
   "source": [
    "from functools import reduce\n",
    "def sum (x,y):\n",
    "    return x + y\n",
    "number = [1,2,3,4,5,6,7,8,9,10]\n",
    "new_list = reduce(sum,number)\n",
    "print(new_list)\n",
    "\n",
    "# 55"
   ]
  },
  {
   "cell_type": "code",
   "execution_count": null,
   "metadata": {},
   "outputs": [],
   "source": [
    "a = 5\n",
    "b = 10\n",
    "print(f\"sum of {a} and {b} is {a + b}\")\n",
    "# 120"
   ]
  },
  {
   "cell_type": "code",
   "execution_count": null,
   "metadata": {},
   "outputs": [],
   "source": [
    "a = 150\n",
    "b = 200\n",
    "a = a + b\n",
    "b = a - b\n",
    "a = a - b\n",
    "\n",
    "print(\"After Swapping: a =\", a, \"b =\", b)\n",
    "\n",
    "# After Swapping: a = 200 b = 150"
   ]
  },
  {
   "cell_type": "code",
   "execution_count": null,
   "metadata": {},
   "outputs": [],
   "source": [
    "count = 0\n",
    "\n",
    "while count < 10:\n",
    "    print(count)\n",
    "    count += 1\n",
    "else:\n",
    "    print(\"count reached. 10\")\n",
    "\n",
    "# 0\n",
    "# 1\n",
    "# 2\n",
    "# 3\n",
    "# 4\n",
    "# 5\n",
    "# 6\n",
    "# 7\n",
    "# 8\n",
    "# 9\n",
    "# count reached. 10"
   ]
  },
  {
   "cell_type": "code",
   "execution_count": null,
   "metadata": {},
   "outputs": [],
   "source": [
    "x = 11\n",
    "\n",
    "if x > 10:\n",
    "    print(\"x is greater than 10\")\n",
    "else:\n",
    "    print(\"x is less than or equal to 10\")\n",
    "\n",
    "#  x is greater than 10"
   ]
  },
  {
   "cell_type": "code",
   "execution_count": 34,
   "metadata": {},
   "outputs": [],
   "source": [
    "# 🖇️TERNARY/SHORT HAND IF/ELSE🖇️\n",
    "\n",
    "number = 10\n",
    "# agr condition true ho to 20 warna answer 10  ho\n",
    "num = 20 if number < 20 else 10\n",
    "print(\"Greatest value is>>>\", num)\n",
    "\n",
    "# Greatest value is>>> 20"
   ]
  },
  {
   "cell_type": "code",
   "execution_count": 38,
   "metadata": {},
   "outputs": [
    {
     "name": "stdout",
     "output_type": "stream",
     "text": [
      "Greatest Value is>>> 20\n"
     ]
    }
   ],
   "source": [
    "num = 20\n",
    "number = 16 if num < 16 else 20\n",
    "print(\"Greatest Value is>>>\", number)\n",
    "\n",
    "# Greatest Value is>>> 20"
   ]
  },
  {
   "cell_type": "code",
   "execution_count": null,
   "metadata": {},
   "outputs": [],
   "source": [
    "# ENUMERATED FUNCTION🖇️\n",
    "\n",
    "names = [\"Kashaf\",\"Iqra\",\"Sahar\"]\n",
    "for index,name in enumerate(names):\n",
    "# names[0] = kashaf 1st tym loop\n",
    "# names[1] = Iqra 2nd tym loop\n",
    "# Iqra == \" Iqra\" jab ye condition true hojaegi\n",
    "# to if loop chal jaega.\n",
    "  if names[index] == \"Iqra\":\n",
    "   print(\"Hello! Iqra Welcome to my Home\")\n",
    "  print(f\"name{index}:{names}\")\n",
    "\n",
    "# name0:Kashaf\n",
    "# Hello! Iqra Welcome to my Home\n",
    "# name1:Iqra\n",
    "# name2:Sahar"
   ]
  },
  {
   "cell_type": "code",
   "execution_count": null,
   "metadata": {},
   "outputs": [],
   "source": [
    "fruits_name = [\"cherry\", \"banana\", \"avocado\", \"apple\", \"mango\"]\n",
    "for index,name in enumerate(fruits_name):\n",
    "    if fruits_name[index] == \"mango\":\n",
    "       print(f\"name{index}:{fruits_name}\")\n",
    "       print(\"yummmy! I Like To Eat Mango\")\n",
    "\n",
    "# name4:['cherry', 'banana', 'avocado', 'apple', 'mango']\n",
    "# yummmy! I Like To Eat Mango\n"
   ]
  },
  {
   "cell_type": "code",
   "execution_count": 42,
   "metadata": {},
   "outputs": [
    {
     "name": "stdout",
     "output_type": "stream",
     "text": [
      "number (1, 2, 3, 4, 5)\n",
      "new_list>>> [1, 4, 9, 16, 25]\n"
     ]
    }
   ],
   "source": [
    "  # Map\n",
    "\n",
    "number = (1,2,3,4,5)\n",
    "\n",
    "def square(num: int):\n",
    "   return num * num\n",
    "\n",
    "new_list = list(map(square,number))\n",
    "print(\"number\",number)\n",
    "print(\"new_list>>>\", new_list)\n",
    "\n",
    "# number (1, 2, 3, 4, 5)\n",
    "# new_list>>> [1, 4, 9, 16, 25] "
   ]
  },
  {
   "cell_type": "code",
   "execution_count": null,
   "metadata": {},
   "outputs": [],
   "source": [
    "number = (1,2,3,4,5)\n",
    "\n",
    "def cube(num: int):\n",
    "    return num*num*num\n",
    "new_list =list(map(cube,number))\n",
    "print(\"number\", number)\n",
    "print(\"new_list>>>\", new_list)\n",
    "\n",
    "# number (1, 2, 3, 4, 5)\n",
    "# new_list>>> [1, 8, 27, 64, 125]"
   ]
  },
  {
   "cell_type": "code",
   "execution_count": null,
   "metadata": {},
   "outputs": [],
   "source": [
    "# Filter\n",
    "\n",
    "number = (1,2,3,4,5)\n",
    "def filter_function(num: int):\n",
    "    return num > 3\n",
    "filtered_list = list(filter(filter_function,number))\n",
    "print(\"filtered_list\", filtered_list)\n",
    "\n",
    "# filtered_list [4, 5]"
   ]
  },
  {
   "cell_type": "code",
   "execution_count": null,
   "metadata": {},
   "outputs": [],
   "source": [
    "number = [1,2,3,4,5,6,7,8,9]\n",
    "\n",
    "def filtered_function(num: int):\n",
    " return num > 5\n",
    " \n",
    "filtered_list = list(filter(filtered_function, number))\n",
    "\n",
    "print(\"filtered_list>>>\", filtered_list)\n",
    "\n",
    "\n",
    "# filtered_list>>> [6, 7, 8, 9]\n"
   ]
  }
 ],
 "metadata": {
  "kernelspec": {
   "display_name": "Python 3",
   "language": "python",
   "name": "python3"
  },
  "language_info": {
   "codemirror_mode": {
    "name": "ipython",
    "version": 3
   },
   "file_extension": ".py",
   "mimetype": "text/x-python",
   "name": "python",
   "nbconvert_exporter": "python",
   "pygments_lexer": "ipython3",
   "version": "3.13.0"
  }
 },
 "nbformat": 4,
 "nbformat_minor": 2
}
