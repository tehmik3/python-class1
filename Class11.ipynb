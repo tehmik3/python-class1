{
  "nbformat": 4,
  "nbformat_minor": 0,
  "metadata": {
    "colab": {
      "private_outputs": true,
      "provenance": [],
      "authorship_tag": "ABX9TyMfcZVRUUZ2WZOTq41v1zmQ",
      "include_colab_link": true
    },
    "kernelspec": {
      "name": "python3",
      "display_name": "Python 3"
    },
    "language_info": {
      "name": "python"
    }
  },
  "cells": [
    {
      "cell_type": "markdown",
      "metadata": {
        "id": "view-in-github",
        "colab_type": "text"
      },
      "source": [
        "<a href=\"https://colab.research.google.com/github/tehmik3/python-class1/blob/main/Class11.ipynb\" target=\"_parent\"><img src=\"https://colab.research.google.com/assets/colab-badge.svg\" alt=\"Open In Colab\"/></a>"
      ]
    },
    {
      "cell_type": "markdown",
      "source": [
        "🖇️TERNARY/SHORT HAND IF/ELSE🖇️"
      ],
      "metadata": {
        "id": "7Pv7AMafN_W4"
      }
    },
    {
      "cell_type": "code",
      "source": [
        "number = 10\n",
        "# agr condition true ho to 20 warna answer 10  ho\n",
        "num = 20 if number < 20 else 10\n",
        "print(\"Greatest value is>>>\", num)\n",
        "\n",
        "# Greatest value is>>> 20"
      ],
      "metadata": {
        "id": "iQVrJN1rOTYC"
      },
      "execution_count": null,
      "outputs": []
    },
    {
      "cell_type": "markdown",
      "source": [
        "🖇️ENUMERATED FUNCTION🖇️"
      ],
      "metadata": {
        "id": "PVimTZnNVESl"
      }
    },
    {
      "cell_type": "code",
      "source": [
        "names = [\"Kashaf\",\"Iqra\",\"Sahar\"]\n",
        "for name in names:\n",
        " print(name)\n",
        "\n",
        "# Kashaf\n",
        "# Iqra\n",
        "# Sahar\n",
        "\n",
        "names = [\"Kashaf\",\"Iqra\",\"Sahar\"]\n",
        "print(names[1])\n",
        "\n",
        "# Iqra\n",
        "\n",
        "names = [\"Kashaf\",\"Iqra\",\"Sahar\"]\n",
        "for name in names:\n",
        "  if names[1] == \"Iqra\":\n",
        "    print(\"Hello! Iqra Welcome to my Home\")\n",
        "\n",
        "# Hello! Iqra Welcome to my Home\n",
        "\n",
        "names = [\"Kashaf\",\"Iqra\",\"Sahar\"]\n",
        "index = 0\n",
        "for name in names:\n",
        "   print(f\"name{index}:{name}\")\n",
        "   index = index + 1\n",
        "\n",
        "# name0:Kashaf\n",
        "# name1:Iqra\n",
        "# name2:Sahar\n",
        "\n",
        "# ENUMERATED FUNCTION🖇️\n",
        "\n",
        "names = [\"Kashaf\",\"Iqra\",\"Sahar\"]\n",
        "for index,name in enumerate(names):\n",
        "# names[0] = kashaf 1st tym loop\n",
        "# names[1] = Iqra 2nd tym loop\n",
        "# Iqra == \" Iqra\" jab ye condition true hojaegi\n",
        "# to if loop chal jaega.\n",
        "  if names[index] == \"Iqra\":\n",
        "   print(\"Hello! Iqra Welcome to my Home\")\n",
        "  print(f\"name{index}:{name}\")\n",
        "\n",
        "# name0:Kashaf\n",
        "# Hello! Iqra Welcome to my Home\n",
        "# name 10:Iqra\n",
        "# name2:Sahar"
      ],
      "metadata": {
        "id": "yZUEuhRTVL1O"
      },
      "execution_count": null,
      "outputs": []
    },
    {
      "cell_type": "markdown",
      "source": [
        "🖇️MAP,FILTER,REDUCE FUNCTION🖇️"
      ],
      "metadata": {
        "id": "JbaK-dVFgYNE"
      }
    },
    {
      "cell_type": "code",
      "source": [
        "number = (1,2,3,4,5)\n",
        "def square(num: int):\n",
        "   return num * num\n",
        "new_List = []\n",
        "print(\"new_List before for loop\", new_List)\n",
        "for num in number:\n",
        "  print(\"num>>>\", num)\n",
        "  print(\"calling square function\")\n",
        "  num_sqr = square(num)\n",
        "  print(\"num_sqr>>>\", num_sqr)\n",
        "  new_List.append(num_sqr)\n",
        "print(\"new_List after for loop\", new_List)\n",
        "\n",
        "# before for loop []\n",
        "# num>>> 1\n",
        "# calling square function\n",
        "# num_sqr>>> 1\n",
        "# num>>> 2\n",
        "# calling square function\n",
        "# num_sqr>>> 4\n",
        "# num>>> 3\n",
        "# calling square function\n",
        "# num_sqr>>> 9\n",
        "# num>>> 4\n",
        "# calling square function\n",
        "# num_sqr>>> 16\n",
        "# num>>> 5\n",
        "# calling square function\n",
        "# num_sqr>>> 25\n",
        "# new_List after for loop [1, 4, 9, 16, 25]"
      ],
      "metadata": {
        "id": "rgV3ve3Tgo3m"
      },
      "execution_count": null,
      "outputs": []
    },
    {
      "cell_type": "code",
      "source": [
        "# Map\n",
        "\n",
        "number = (1,2,3,4,5)\n",
        "\n",
        "def square(num: int):\n",
        "   return num * num\n",
        "\n",
        "new_list = map(square,number)\n",
        "print(new_list)\n",
        "\n",
        "# <map object at 0x7e0430ebd240>"
      ],
      "metadata": {
        "id": "CdVBEtAfXsOM"
      },
      "execution_count": null,
      "outputs": []
    },
    {
      "cell_type": "code",
      "source": [
        "# Map\n",
        "\n",
        "number = (1,2,3,4,5)\n",
        "\n",
        "def square(num: int):\n",
        "   return num * num\n",
        "\n",
        "new_list = list(map(square,number))\n",
        "print(\"number\",number)\n",
        "print(\"new_list>>>\", new_list)\n",
        "\n",
        "# number (1, 2, 3, 4, 5)\n",
        "# new_list>>> [1, 4, 9, 16, 25]"
      ],
      "metadata": {
        "id": "dvwPxwtoZKUb"
      },
      "execution_count": null,
      "outputs": []
    },
    {
      "cell_type": "code",
      "source": [
        "# Filter\n",
        "\n",
        "number = (1,2,3,4,5)\n",
        "def filter_function(num: int):\n",
        "    return num > 3\n",
        "filtered_list = list(filter(filter_function,number))\n",
        "print(\"filtered_list\", filtered_list)\n",
        "\n",
        "# filtered_list [4, 5]"
      ],
      "metadata": {
        "id": "Mqr2hvjpamSj"
      },
      "execution_count": null,
      "outputs": []
    }
  ]
}

# Reduce

from funtion import reduce # Import reduce from functon
number = [1,2,3,4,5,6,7,8,9]    # List of number
# Calculate the sum of the number using the reduce funtion
def num (x,y):
  return x + y
  sum = reduce(num,number) # Call reduce outside the num function
  print("sum>>>", sum)  # Print the sum outside the num function

# sum>>> 45
