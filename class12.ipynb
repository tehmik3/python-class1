{
 "cells": [
  {
   "cell_type": "markdown",
   "metadata": {},
   "source": [
    "OS MODULE IN PYTHON:\n",
    "The os module in python provide a way to interact with the operating \n",
    "system allowing you to perform system_level tasks."
   ]
  },
  {
   "cell_type": "code",
   "execution_count": 27,
   "metadata": {},
   "outputs": [
    {
     "name": "stdout",
     "output_type": "stream",
     "text": [
      "c:\\python\\app.py\n"
     ]
    }
   ],
   "source": [
    "import os\n",
    "print(dir(os))\n",
    "print(\"cwd\", os.getcwd())  # current working directory\n",
    "print(\"List dir\", os.listdir())\n",
    "os.mkdir(\"newfolder\") # create a new folder\n",
    "os.makedirs(\"Imp1/Imp2\") # creat a multiple files in 1 folder\n",
    "os.rmdir(\"newfolder\") # remove folder\n",
    "print(os.getcwd())"
   ]
  },
  {
   "cell_type": "markdown",
   "metadata": {},
   "source": [
    "FILE/IO IN PYTHON:\n",
    "Python can be used to perform operations on a file(read & write data)"
   ]
  },
  {
   "cell_type": "code",
   "execution_count": 27,
   "metadata": {},
   "outputs": [
    {
     "name": "stdout",
     "output_type": "stream",
     "text": [
      "Assalam u Alaikum Tahreem khan here\n",
      "I am learning python from Governer House.\n",
      "<class 'str'>\n"
     ]
    }
   ],
   "source": [
    "file = open(\"demo.txt\")\n",
    "data = file.read()\n",
    "print(data)\n",
    "print(type(data))\n",
    "file.close()"
   ]
  },
  {
   "cell_type": "code",
   "execution_count": 28,
   "metadata": {},
   "outputs": [
    {
     "data": {
      "text/plain": [
       "<function TextIOWrapper.close()>"
      ]
     },
     "execution_count": 28,
     "metadata": {},
     "output_type": "execute_result"
    }
   ],
   "source": [
    "file = open(\"demo.txt\",\"a\")\n",
    "file.write(\"I am learning python from Governer House.\")\n",
    "file.close"
   ]
  },
  {
   "cell_type": "code",
   "execution_count": null,
   "metadata": {},
   "outputs": [],
   "source": [
    "with open(\"demo.txt\", \"r\")as file:\n",
    "    content = file.read()\n",
    "    print(content)"
   ]
  },
  {
   "cell_type": "markdown",
   "metadata": {},
   "source": [
    "Recursive function/Recursion:\n",
    "when a function calls itself repeatedly."
   ]
  },
  {
   "cell_type": "code",
   "execution_count": 29,
   "metadata": {},
   "outputs": [
    {
     "name": "stdout",
     "output_type": "stream",
     "text": [
      "num>>> 10\n",
      "num>>> 9\n",
      "num>>> 8\n",
      "num>>> 7\n",
      "num>>> 6\n",
      "num>>> 5\n",
      "num>>> 4\n",
      "num>>> 3\n",
      "num>>> 2\n",
      "num>>> 1\n",
      "count_down done\n"
     ]
    }
   ],
   "source": [
    "def count_down(num:int)->int:\n",
    "    if num == 0:  # 10 <= 0\n",
    "        print (\"count_down done\")\n",
    "    else:\n",
    "        print (\"num>>>\", num) # 10 ->9 ->8 ->7\n",
    "        count_down(num - 1) # 10-1 = 9-1 = 8-1 = 7\n",
    "\n",
    "count_down(10)"
   ]
  },
  {
   "cell_type": "code",
   "execution_count": 31,
   "metadata": {},
   "outputs": [
    {
     "name": "stdout",
     "output_type": "stream",
     "text": [
      "result>>>> 15\n"
     ]
    }
   ],
   "source": [
    "def add(a: int, b:int) ->int:\n",
    "    return a + b\n",
    "result = add (7,8)\n",
    "print(\"result>>>>\", result)"
   ]
  },
  {
   "cell_type": "markdown",
   "metadata": {},
   "source": [
    "Map:"
   ]
  },
  {
   "cell_type": "code",
   "execution_count": 32,
   "metadata": {},
   "outputs": [
    {
     "name": "stdout",
     "output_type": "stream",
     "text": [
      "numbers [1, 2, 3, 4, 5]\n",
      "new_list [1, 4, 9, 16, 25]\n"
     ]
    }
   ],
   "source": [
    "numbers = [1,2,3,4,5,]\n",
    "#         [1,4,9,16,25]\n",
    "def square(num: int):\n",
    "    return num * num\n",
    "new_list = list(map(square, numbers))\n",
    "print(\"numbers\", numbers)\n",
    "print(\"new_list\", new_list)"
   ]
  }
 ],
 "metadata": {
  "kernelspec": {
   "display_name": "Python 3",
   "language": "python",
   "name": "python3"
  },
  "language_info": {
   "codemirror_mode": {
    "name": "ipython",
    "version": 3
   },
   "file_extension": ".py",
   "mimetype": "text/x-python",
   "name": "python",
   "nbconvert_exporter": "python",
   "pygments_lexer": "ipython3",
   "version": "3.13.0"
  }
 },
 "nbformat": 4,
 "nbformat_minor": 2
}
